{
 "cells": [
  {
   "cell_type": "markdown",
   "metadata": {},
   "source": [
    "(user_interface) =\n",
    "# Instructions\n",
    "\n",
    "This section serves as a demonstration on impulse response function with different options such as\n",
    "\n",
    "\n",
    "1. baseline of carbon emission\n",
    "2. pulse size of carbon emission\n",
    "3. pulse year of carbon emission. \n",
    "\n"
   ]
  },
  {
   "cell_type": "code",
   "execution_count": 1,
   "metadata": {},
   "outputs": [
    {
     "data": {
      "application/vnd.jupyter.widget-view+json": {
       "model_id": "18aaa2fe91044c699d60327ee37bd45f",
       "version_major": 2,
       "version_minor": 0
      },
      "text/plain": [
       "VBox(children=(HBox(children=(VBox(children=(Label(value='Preference parameters'), Text(value='0.667, 1.000000…"
      ]
     },
     "metadata": {},
     "output_type": "display_data"
    }
   ],
   "source": [
    "# {\n",
    "#     \"tags\": [\n",
    "#         \"hide-cell\"\n",
    "#     ]\n",
    "# }\n",
    "\n",
    "\n",
    "from model import *\n",
    "# from jupyterWidgets_pi import *\n",
    "# from plotting_module import *\n",
    "\n",
    "# import warnings\n",
    "# warnings.filterwarnings('ignore')\n",
    "\n",
    "display(fixed_params_Panel)\n"
   ]
  },
  {
   "cell_type": "markdown",
   "metadata": {},
   "source": [
    "## Experiment using options given above\n",
    "\n",
    "Now we are able to select multiple variables of interest to simulate. To do so, please press `Feed Parameters` first, and then press `Start Simulation`.\n",
    "\n",
    "<!-- The dashed curves indicate deterministic growth path (with both shocks being 0 at every period), and the solid curves indicate stochastic growth path (with randomly generated standard normal shock at every period). -->"
   ]
  },
  {
   "cell_type": "code",
   "execution_count": null,
   "metadata": {},
   "outputs": [],
   "source": []
  }
 ],
 "metadata": {
  "interpreter": {
   "hash": "b3ba2566441a7c06988d0923437866b63cedc61552a5af99d1f4fb67d367b25f"
  },
  "kernelspec": {
   "display_name": "Python 3.9.7",
   "language": "python",
   "name": "python3"
  },
  "language_info": {
   "codemirror_mode": {
    "name": "ipython",
    "version": 3
   },
   "file_extension": ".py",
   "mimetype": "text/x-python",
   "name": "python",
   "nbconvert_exporter": "python",
   "pygments_lexer": "ipython3",
   "version": "3.8.13"
  },
  "orig_nbformat": 4
 },
 "nbformat": 4,
 "nbformat_minor": 2
}
