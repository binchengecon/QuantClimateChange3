{
 "cells": [
  {
   "cell_type": "markdown",
   "metadata": {},
   "source": [
    "# Nonlinear Carbon Dynamics"
   ]
  },
  {
   "cell_type": "code",
   "execution_count": 3,
   "metadata": {},
   "outputs": [],
   "source": [
    "from PIL import Image\n",
    "import ipywidgets as widgets\n",
    "from ipywidgets import interact, interactive, fixed, interact_manual\n",
    "import numpy as np\n",
    "\n",
    "import warnings\n",
    "warnings.filterwarnings('ignore')\n"
   ]
  },
  {
   "cell_type": "code",
   "execution_count": 7,
   "metadata": {},
   "outputs": [
    {
     "data": {
      "application/vnd.jupyter.widget-view+json": {
       "model_id": "5c2f9806c4c448c8bbf71fa6f98e1564",
       "version_major": 2,
       "version_minor": 0
      },
      "text/plain": [
       "interactive(children=(IntSlider(value=49, description='pulse', max=99), Dropdown(description='cearth', options…"
      ]
     },
     "metadata": {},
     "output_type": "display_data"
    }
   ],
   "source": [
    "%matplotlib inline\n",
    "\n",
    "@interact\n",
    "def image(pulse=(0, 99), cearth=np.array((0.3725, 0.3916, 15.0)), baseline=[\"rcp60co2eqv3.csv\", \"rcp00co2eqv3.csv\", \"carbonvoid.csv\"], year=np.array((1801, 2010))):\n",
    "    Figure_Dir = \"./figure/NC_PulseExp/\"\n",
    "    # baseline = \"rcp60co2eqv3.csv\"\n",
    "    # cearth=15.0\n",
    "    # year=1801\n",
    "    filename = Figure_Dir+\"Baseline=\"+baseline+\",cearth=\" + \\\n",
    "        str(cearth)+\",year=\"+str(year)+\",pulse=\"+str(pulse)+\".png\"\n",
    "    return Image.open(filename)\n"
   ]
  }
 ],
 "metadata": {
  "kernelspec": {
   "display_name": "Python 3.9.7 ('base')",
   "language": "python",
   "name": "python3"
  },
  "language_info": {
   "codemirror_mode": {
    "name": "ipython",
    "version": 3
   },
   "file_extension": ".py",
   "mimetype": "text/x-python",
   "name": "python",
   "nbconvert_exporter": "python",
   "pygments_lexer": "ipython3",
   "version": "3.8.13"
  },
  "orig_nbformat": 4,
  "vscode": {
   "interpreter": {
    "hash": "ad2bdc8ecc057115af97d19610ffacc2b4e99fae6737bb82f5d7fb13d2f2c186"
   }
  }
 },
 "nbformat": 4,
 "nbformat_minor": 2
}
