{
 "cells": [
  {
   "cell_type": "markdown",
   "metadata": {},
   "source": [
    "# Nonlinear Carbon Dynamics"
   ]
  },
  {
   "cell_type": "code",
   "execution_count": 1,
   "metadata": {},
   "outputs": [],
   "source": [
    "from PIL import Image\n",
    "import ipywidgets as widgets\n",
    "from ipywidgets import interact, interactive, fixed, interact_manual\n",
    "import numpy as np\n",
    "\n",
    "import warnings\n",
    "warnings.filterwarnings('ignore')\n"
   ]
  },
  {
   "cell_type": "code",
   "execution_count": 2,
   "metadata": {},
   "outputs": [
    {
     "data": {
      "application/vnd.jupyter.widget-view+json": {
       "model_id": "72bdb8cc672445debf12d3f569eb6922",
       "version_major": 2,
       "version_minor": 0
      },
      "text/plain": [
       "interactive(children=(IntSlider(value=49, description='pulse', max=99), Dropdown(description='cearth', options…"
      ]
     },
     "metadata": {},
     "output_type": "display_data"
    }
   ],
   "source": [
    "%matplotlib inline\n",
    "\n",
    "@interact\n",
    "def image(pulse=(0, 99), cearth=np.array((0.3725, 0.3916, 15.0)), baseline=[\"rcp60co2eqv3.csv\", \"rcp00co2eqv3.csv\", \"carbonvoid.csv\"], year=np.array((1801, 2010))):\n",
    "    Figure_Dir = \"./figure/NC_PulseExp/\"\n",
    "    # baseline = \"rcp60co2eqv3.csv\"\n",
    "    # cearth=15.0\n",
    "    # year=1801\n",
    "    filename = Figure_Dir+\"Baseline=\"+baseline+\",cearth=\" + \\\n",
    "        str(cearth)+\",year=\"+str(year)+\",pulse=\"+str(pulse)+\".png\"\n",
    "    return Image.open(filename)\n"
   ]
  },
  {
   "cell_type": "code",
   "execution_count": 3,
   "metadata": {},
   "outputs": [
    {
     "ename": "TypeError",
     "evalue": "'module' object is not callable",
     "output_type": "error",
     "traceback": [
      "\u001b[1;31m---------------------------------------------------------------------------\u001b[0m",
      "\u001b[1;31mTypeError\u001b[0m                                 Traceback (most recent call last)",
      "Input \u001b[1;32mIn [3]\u001b[0m, in \u001b[0;36m<cell line: 14>\u001b[1;34m()\u001b[0m\n\u001b[0;32m     12\u001b[0m filename\n\u001b[0;32m     13\u001b[0m \u001b[38;5;66;03m# Image(filename)\u001b[39;00m\n\u001b[1;32m---> 14\u001b[0m \u001b[43mImage\u001b[49m\u001b[43m(\u001b[49m\u001b[38;5;124;43m\"\u001b[39;49m\u001b[38;5;124;43m./figure/NC_PulseExp/Baseline=rcp60co2eqv3.csv,cearth=0.3725,year1801,pulse=29.png\u001b[39;49m\u001b[38;5;124;43m\"\u001b[39;49m\u001b[43m)\u001b[49m\n",
      "\u001b[1;31mTypeError\u001b[0m: 'module' object is not callable"
     ]
    }
   ],
   "source": [
    "pulse=1\n",
    "Figure_Dir = \"./figure/NC_PulseExp/\"\n",
    "# Figure_Dir = \"./NC_PulseExp/\"\n",
    "# Figure_Dir = \"\"\n",
    "cearth=15.0\n",
    "baseline = \"rcp60co2eqv3.csv\"\n",
    "year = 1801\n",
    "\n",
    "filename = Figure_Dir+\"Baseline=\"+baseline+\",cearth=\" + \\\n",
    "    str(cearth)+\",year\"+str(year)+\",pulse=\"+str(pulse)+\".png\"\n",
    "# Image(\"test.png\")\n",
    "filename\n",
    "# Image(filename)\n",
    "Image(\"./figure/NC_PulseExp/Baseline=rcp60co2eqv3.csv,cearth=0.3725,year1801,pulse=29.png\")\n"
   ]
  },
  {
   "cell_type": "code",
   "execution_count": 6,
   "metadata": {},
   "outputs": [
    {
     "data": {
      "application/vnd.jupyter.widget-view+json": {
       "model_id": "46d06e10525b47659bd0f8698835e459",
       "version_major": 2,
       "version_minor": 0
      },
      "text/plain": [
       "interactive(children=(IntSlider(value=127, description='th', max=255), Output()), _dom_classes=('widget-intera…"
      ]
     },
     "metadata": {},
     "output_type": "display_data"
    }
   ],
   "source": [
    "from PIL import Image\n",
    "import ipywidgets as widgets\n",
    "from ipywidgets import interact, interactive, fixed, interact_manual\n",
    "%matplotlib inline\n",
    "\n",
    "img = Image.open('test.png').convert('L')\n",
    "\n",
    "\n",
    "@interact\n",
    "def binarize(th: (0, 255, 1)):\n",
    "    return img.point(lambda p: 255 if p > th else 0)\n"
   ]
  }
 ],
 "metadata": {
  "kernelspec": {
   "display_name": "Python 3.9.7 ('base')",
   "language": "python",
   "name": "python3"
  },
  "language_info": {
   "codemirror_mode": {
    "name": "ipython",
    "version": 3
   },
   "file_extension": ".py",
   "mimetype": "text/x-python",
   "name": "python",
   "nbconvert_exporter": "python",
   "pygments_lexer": "ipython3",
   "version": "3.8.13"
  },
  "vscode": {
   "interpreter": {
    "hash": "ad2bdc8ecc057115af97d19610ffacc2b4e99fae6737bb82f5d7fb13d2f2c186"
   }
  }
 },
 "nbformat": 4,
 "nbformat_minor": 2
}