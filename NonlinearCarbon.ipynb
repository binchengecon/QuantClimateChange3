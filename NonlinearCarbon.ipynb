{
 "cells": [
  {
   "cell_type": "markdown",
   "metadata": {},
   "source": [
    "# Nonlinear Carbon Dynamics"
   ]
  },
  {
   "cell_type": "code",
   "execution_count": 2,
   "metadata": {},
   "outputs": [],
   "source": [
    "from PIL import Image\n",
    "import ipywidgets as widgets\n",
    "from ipywidgets import interact, interactive, fixed, interact_manual\n",
    "import numpy as np\n",
    "\n",
    "import warnings\n",
    "warnings.filterwarnings('ignore')\n"
   ]
  },
  {
   "cell_type": "code",
   "execution_count": 4,
   "metadata": {},
   "outputs": [
    {
     "data": {
      "application/vnd.jupyter.widget-view+json": {
       "model_id": "e9657745a9b844fca3be9231a70436a1",
       "version_major": 2,
       "version_minor": 0
      },
      "text/plain": [
       "interactive(children=(IntSlider(value=24, description='pulse', max=49), Dropdown(description='cearth', options…"
      ]
     },
     "metadata": {},
     "output_type": "display_data"
    }
   ],
   "source": [
    "%matplotlib inline\n",
    "\n",
    "# def image(pulse=(0, 99), cearth=np.array((0.3725, 0.3916, 15.0)), baseline=[\"carbonvoid.csv\",  \"rcp00co2eqv3.csv\", \"rcp30co2eqv3.csv\", \"rcp45co2eqv3.csv\", \"rcp60co2eqv3.csv\"], year=np.array((1801, 2010)), option=[\"Trad\", \"IRF\", \"IRFstand\", \"IRFTera\"]):\n",
    "\n",
    "@interact\n",
    "def image(pulse=(0, 49), cearth=np.array((0.3916, 15.0)), baseline=[\"carbonvoid.csv\",  \"rcp00co2eqv3.csv\", \"rcp30co2eqv3.csv\", \"rcp45co2eqv3.csv\", \"rcp60co2eqv3.csv\"], year=np.array((1801,2010)), option=[\"Trad\", \"IRF\", \"IRFstand\", \"IRFTera\"]):\n",
    "    Figure_Dir = \"./figure/NC_PulseExp/\"\n",
    "    # baseline = \"rcp60co2eqv3.csv\"\n",
    "    # cearth=15.0\n",
    "    # year=1801\n",
    "\n",
    "    if option==\"Trad\":\n",
    "        filename = Figure_Dir+\"Baseline=\"+baseline+\",cearth=\" + \\\n",
    "            str(cearth)+\",year=\"+str(year)+\",pulse=\"+str(pulse)+\".png\"\n",
    "    if option == \"IRF\":\n",
    "        filename = Figure_Dir+\"Baseline=\"+baseline+\",cearth=\" + \\\n",
    "            str(cearth)+\",year=\"+str(year)+\",pulse=\" + \\\n",
    "            str(pulse)+\",2IRF.png\"    # return Image.open(filename)\n",
    "    if option ==\"IRFstand\":\n",
    "        filename = Figure_Dir+\"Baseline=\"+baseline+\",cearth=\" + \\\n",
    "            str(cearth)+\",year=\"+str(year)+\",pulse=\" + \\\n",
    "            str(pulse)+\",2IRF,per.png\"    # return Image.open(filename)\n",
    "    if option ==\"IRFTera\":\n",
    "        filename = Figure_Dir+\"Baseline=\"+baseline+\",cearth=\" + \\\n",
    "            str(cearth)+\",year=\"+str(year)+\",pulse=\" + \\\n",
    "            str(pulse)+\",2IRF,Tera.png\"    # return Image.open(filename)\n",
    "    userimage = Image.open(filename)\n",
    "    # userimage_resize = userimage.resize((800, 1000))\n",
    "    # return userimage_resize\n",
    "    return userimage\n"
   ]
  }
 ],
 "metadata": {
  "kernelspec": {
   "display_name": "Python 3.9.7 ('base')",
   "language": "python",
   "name": "python3"
  },
  "language_info": {
   "codemirror_mode": {
    "name": "ipython",
    "version": 3
   },
   "file_extension": ".py",
   "mimetype": "text/x-python",
   "name": "python",
   "nbconvert_exporter": "python",
   "pygments_lexer": "ipython3",
   "version": "3.8.13"
  },
  "orig_nbformat": 4,
  "vscode": {
   "interpreter": {
    "hash": "ad2bdc8ecc057115af97d19610ffacc2b4e99fae6737bb82f5d7fb13d2f2c186"
   }
  }
 },
 "nbformat": 4,
 "nbformat_minor": 2
}
