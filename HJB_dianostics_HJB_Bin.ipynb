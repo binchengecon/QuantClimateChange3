{
 "cells": [
  {
   "cell_type": "code",
   "execution_count": 4,
   "id": "13867e2c",
   "metadata": {},
   "outputs": [],
   "source": [
    "from supportfunctions import finiteDiff\n",
    "import SolveLinSys\n",
    "from scipy.interpolate import RegularGridInterpolator\n",
    "from scipy import fft, arange, signal\n",
    "from scipy import interpolate\n",
    "from scipy.optimize import curve_fit\n",
    "import scipy.optimize as optim\n",
    "import scipy.io as sio\n",
    "import matplotlib.mlab\n",
    "from matplotlib.colors import SymLogNorm\n",
    "from matplotlib import rcParams\n",
    "from matplotlib import pyplot as plt\n",
    "from scipy.fft import fft, fftfreq\n",
    "from scipy.integrate import solve_ivp\n",
    "import pickle\n",
    "import pandas as pd\n",
    "import numpy as np\n",
    "import sys\n",
    "import ipywidgets as widgets\n",
    "from ipywidgets import interact, interactive, fixed, interact_manual\n",
    "\n",
    "sys.path.append(\"../src/\")\n",
    "rcParams[\"figure.figsize\"] = (8, 5)\n",
    "rcParams[\"savefig.bbox\"] = 'tight'\n",
    "rcParams[\"font.size\"] = 18\n",
    "\n",
    "\n",
    "def PDESolver(stateSpace, A, B1, B2, B3, C1, C2, C3, D, v0,\n",
    "              ε=1, tol=-10):\n",
    "\n",
    "    A = A.reshape(-1, 1, order='F')\n",
    "    B = np.hstack([B1.reshape(-1, 1, order='F'), B2.reshape(-1,\n",
    "                  1, order='F'), B3.reshape(-1, 1, order='F')])\n",
    "    C = np.hstack([C1.reshape(-1, 1, order='F'), C2.reshape(-1,\n",
    "                  1, order='F'), C3.reshape(-1, 1, order='F')])\n",
    "    D = D.reshape(-1, 1, order='F')\n",
    "    v0 = v0.reshape(-1, 1, order='F')\n",
    "    out = SolveLinSys.solveFT(stateSpace, A, B, C, D, v0, ε, tol)\n",
    "\n",
    "    return out\n"
   ]
  },
  {
   "cell_type": "code",
   "execution_count": 5,
   "id": "cc5b6aca",
   "metadata": {},
   "outputs": [
    {
     "data": {
      "application/vnd.jupyter.widget-view+json": {
       "model_id": "05ce5eedb9854f09946b5b5274eebddd",
       "version_major": 2,
       "version_minor": 0
      },
      "text/plain": [
       "interactive(children=(IntSlider(value=50, description='Fnum'), IntSlider(value=10, description='Cnum', max=20)…"
      ]
     },
     "metadata": {},
     "output_type": "display_data"
    }
   ],
   "source": [
    "from os.path import isfile, join\n",
    "from os import listdir\n",
    "\n",
    "mypath=\"./data/guess1/\"\n",
    "onlyfiles = [f for f in listdir(mypath) if isfile(join(mypath, f))]\n",
    "\n",
    "@interact\n",
    "def present(Fnum=(0, 100), Cnum=(0, 20), cearth=[35.0], tauc=[6603.0], fraction=np.array((0.05, 0.1)), epsilon=np.array((0.05, 0.1)), maxiter=np.array((5000, 30000, 60000)), Xminarr=[[0.0, 200.0, 0.0]], Xmaxarr=[[10.0, 400.0, 2000.0], [15.0, 400.0, 2000.0], [17.5, 400.0, 2000.0], [20.0, 400.0, 2000.0]], hXarr=[[0.2, 4.0, 40.0],[0.1, 2.0, 20.0]]):\n",
    "    dataname = f\"./data/HJB_Bin.py/data_{cearth}_{tauc}_{maxiter}_{fraction}_{epsilon}_{Xminarr}_{Xmaxarr}_{hXarr}\"\n",
    "    # print(dataname)\n",
    "    res = pickle.load(open(dataname, \"rb\"))\n",
    "\n",
    "    v0 = res[\"v0\"]\n",
    "    T_grid = res[\"T\"]\n",
    "    C_grid = res[\"C\"]\n",
    "    F_grid = res[\"F\"]\n",
    "    Ca = res[\"Ca\"]\n",
    "\n",
    "    hT = T_grid[1]-T_grid[0]\n",
    "    hC = C_grid[1]-C_grid[0]\n",
    "    hF = F_grid[1]-F_grid[0]\n",
    "\n",
    "    dvdC = finiteDiff(v0, 1, 1, hC)\n",
    "    dvdF = finiteDiff(v0, 2, 1, hF)\n",
    "\n",
    "    plt.subplots(1, 3, figsize=(30, 10))\n",
    "    plt.subplot(131)\n",
    "    plt.plot(T_grid, v0[:, Cnum, Fnum])\n",
    "    plt.xlabel(\"Temperature (K)\")\n",
    "    plt.title(\n",
    "        \"V, (C, G)=({:.2f},{:.2f})\".format(C_grid[Cnum], F_grid[Fnum]))\n",
    "    plt.subplot(132)\n",
    "    plt.plot(T_grid, Ca[:, Cnum, Fnum])\n",
    "    plt.xlabel(\"Temperature (K)\")\n",
    "    plt.title(\n",
    "        \"g\")\n",
    "    plt.subplot(133)\n",
    "    plt.plot(T_grid, dvdC[:, Cnum, Fnum]+dvdF[:, Cnum, Fnum])\n",
    "    plt.xlabel(\"Temperature (K)\")\n",
    "    plt.title(\n",
    "        r\"$\\partial V/\\partial C$+$\\partial V/\\partial F$\")\n",
    "    plt.savefig(\"test.pdf\")\n"
   ]
  }
 ],
 "metadata": {
  "kernelspec": {
   "display_name": "Python 3.9.7 ('base')",
   "language": "python",
   "name": "python3"
  },
  "language_info": {
   "codemirror_mode": {
    "name": "ipython",
    "version": 3
   },
   "file_extension": ".py",
   "mimetype": "text/x-python",
   "name": "python",
   "nbconvert_exporter": "python",
   "pygments_lexer": "ipython3",
   "version": "3.8.13"
  },
  "vscode": {
   "interpreter": {
    "hash": "ad2bdc8ecc057115af97d19610ffacc2b4e99fae6737bb82f5d7fb13d2f2c186"
   }
  }
 },
 "nbformat": 4,
 "nbformat_minor": 5
}
